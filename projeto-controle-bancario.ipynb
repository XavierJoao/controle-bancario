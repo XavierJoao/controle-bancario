{
 "cells": [
  {
   "cell_type": "markdown",
   "id": "b93a9026",
   "metadata": {},
   "source": [
    "# Projeto de Controle Bancário em Python\n",
    "\n",
    "Este projeto foi desenvolvido para praticar conceitos de Programação Orientada a Objetos (POO) em Python, simulando um sistema bancário simples com clientes e contas. \n",
    "\n",
    "O sistema permite:\n",
    "- Criar clientes com nome e telefone\n",
    "- Gerenciar contas bancárias com operações de depósito, saque e exibição de saldo\n",
    "\n",
    "## Estrutura do projeto\n",
    "O projeto está dividido em três classes principais:\n",
    "- `Cliente`: Gerencia as informações do cliente\n",
    "- `Conta`: Controla as operações da conta bancária\n",
    "- `Main`: Ponto de entrada para a execução do programa"
   ]
  },
  {
   "cell_type": "markdown",
   "id": "2807340b",
   "metadata": {},
   "source": [
    "### Classe `Cliente`\n",
    "Esta classe define os atributos e métodos relacionados a um cliente do banco, incluindo nome e telefone, utilizando o conceito de encapsulamento com `@property` e `@setter` para controle dos dados."
   ]
  },
  {
   "cell_type": "code",
   "execution_count": 1,
   "id": "df258aca",
   "metadata": {},
   "outputs": [],
   "source": [
    "class Cliente:\n",
    "    def __init__(self, n, fone):\n",
    "        self._nome = n\n",
    "        self._telefone = fone\n",
    "\n",
    "    # método get (utilizando property)\n",
    "    @property\n",
    "    def nome(self):\n",
    "        return self._nome\n",
    "    \n",
    "    # método set (utilizando setter)\n",
    "    @nome.setter\n",
    "    def nome(self, nome):\n",
    "        self._nome = nome\n",
    "\n",
    "    @property\n",
    "    def telefone(self):\n",
    "        return self._telefone\n",
    "\n",
    "    @telefone.setter\n",
    "    def telefone(self, telefone):\n",
    "        self._telefone = telefone"
   ]
  },
  {
   "cell_type": "markdown",
   "id": "c5ae4b63",
   "metadata": {},
   "source": [
    "### Classe `Conta`\n",
    "Esta classe define os atributos e métodos relacionados à conta do cliente no banco, incluindo o nome do titular e o número da conta. Assim como na classe `Cliente`, o conceito de encapsulamento é utilizado para garantir maior segurança e controle na manipulação dos dados sensíveis, como o saldo da conta.\n",
    "\n",
    "A classe oferece métodos para:\n",
    "- Realizar depósitos e saques com validação de valores\n",
    "- Exibir o extrato da conta, que mostra o saldo atualizado\n",
    "- Proteger a integridade dos dados, impedindo saldos negativos ou saques superiores ao saldo disponível"
   ]
  },
  {
   "cell_type": "code",
   "execution_count": 2,
   "id": "1f7023c5",
   "metadata": {},
   "outputs": [],
   "source": [
    "class Conta:\n",
    "    def __init__(self, titular, numero):\n",
    "        self._saldo = 0.0\n",
    "        self._numero = numero\n",
    "        self._titular = titular\n",
    "\n",
    "    @property\n",
    "    def saldo(self):\n",
    "        return self._saldo\n",
    "\n",
    "    @saldo.setter\n",
    "    def saldo(self, saldo):\n",
    "        if saldo < 0:\n",
    "            raise ValueError(\"O saldo não pode ser negativo.\")\n",
    "        self._saldo = saldo\n",
    "\n",
    "    def saque(self, valor):\n",
    "        if valor <= 0:\n",
    "            print(\"O valor de saque deve ser maior que zero.\")\n",
    "        elif self.saldo >= valor:\n",
    "            self.saldo -= valor\n",
    "            print(\"Saque realizado com sucesso\")\n",
    "        else:\n",
    "            print(\"Saldo insuficiente\")\n",
    "        \n",
    "    def deposita(self, valor):\n",
    "        if valor <= 0:\n",
    "            print(\"O valor de depósito deve ser maior que zero.\")\n",
    "        else:\n",
    "            self.saldo += valor\n",
    "\n",
    "    def extrato(self):\n",
    "        print(f\"Cliente: {self._titular}, Saldo atual: R$ {self._saldo:.2f}\")"
   ]
  },
  {
   "cell_type": "markdown",
   "id": "16a833dd",
   "metadata": {},
   "source": [
    "### Classe `Main`\n",
    "A classe `Main` serve como ponto de entrada para a execução do programa, onde instanciamos os objetos das classes `Cliente` e `Conta` para simular o funcionamento do sistema bancário.\n",
    "\n",
    "O método `executar()` realiza as operações bancárias (cria o cliente, a conta, faz depósitos, saques e imprime o extrato).\n",
    "\n",
    "Essa classe demonstra como as classes `Cliente` e `Conta` interagem, mostrando um fluxo simples de um sistema bancário."
   ]
  },
  {
   "cell_type": "code",
   "execution_count": 3,
   "id": "dff427ee",
   "metadata": {},
   "outputs": [
    {
     "name": "stdout",
     "output_type": "stream",
     "text": [
      "Saque realizado com sucesso\n",
      "Cliente: João, Saldo atual: R$ 50.00\n"
     ]
    }
   ],
   "source": [
    "class Main:\n",
    "    def __init__(self):\n",
    "        self.executar()\n",
    "\n",
    "    def executar(self):\n",
    "        c1 = Cliente(\"João\", \"1198765-4321\")\n",
    "        conta = Conta(c1.nome, 6565)\n",
    "\n",
    "        conta.deposita(100)\n",
    "        conta.saque(50)\n",
    "        conta.extrato()\n",
    "\n",
    "if __name__ == \"__main__\":\n",
    "    Main()"
   ]
  }
 ],
 "metadata": {
  "kernelspec": {
   "display_name": "Python 3 (ipykernel)",
   "language": "python",
   "name": "python3"
  },
  "language_info": {
   "codemirror_mode": {
    "name": "ipython",
    "version": 3
   },
   "file_extension": ".py",
   "mimetype": "text/x-python",
   "name": "python",
   "nbconvert_exporter": "python",
   "pygments_lexer": "ipython3",
   "version": "3.9.13"
  }
 },
 "nbformat": 4,
 "nbformat_minor": 5
}
